{
  "nbformat": 4,
  "nbformat_minor": 0,
  "metadata": {
    "colab": {
      "provenance": [],
      "authorship_tag": "ABX9TyO0DrUIjUVK8poGErfA8g/N",
      "include_colab_link": true
    },
    "kernelspec": {
      "name": "python3",
      "display_name": "Python 3"
    },
    "language_info": {
      "name": "python"
    }
  },
  "cells": [
    {
      "cell_type": "markdown",
      "metadata": {
        "id": "view-in-github",
        "colab_type": "text"
      },
      "source": [
        "<a href=\"https://colab.research.google.com/github/Samuyel-256/AI-DECK/blob/main/PYTHON_CRT.ipynb\" target=\"_parent\"><img src=\"https://colab.research.google.com/assets/colab-badge.svg\" alt=\"Open In Colab\"/></a>"
      ]
    },
    {
      "cell_type": "code",
      "source": [
        "#-------------------------------------------------------------# 30/06/2025  #-------------------------------------------------------------#"
      ],
      "metadata": {
        "id": "lIEO-v2kjaP6"
      },
      "execution_count": null,
      "outputs": []
    },
    {
      "cell_type": "code",
      "source": [
        "# How to run python on vs Code :\n",
        "\n",
        "# first we have to save a file in the name of .py in vs code and next click on terminal and new terminal in that we type \"PYTHON FILENAME.PY\" to run code in vs code"
      ],
      "metadata": {
        "id": "uslCp0J_MZnm"
      },
      "execution_count": null,
      "outputs": []
    },
    {
      "cell_type": "markdown",
      "source": [
        "INPUT & OUTPUT FUNCTIONS\n"
      ],
      "metadata": {
        "id": "o_8_tYYUhoUM"
      }
    },
    {
      "cell_type": "code",
      "source": [
        "# INPUT & OUTPUT FUNCTIONS :\n",
        "\n",
        "#-------------------------------------------------------------#\n",
        "\n",
        "# How to take Input function :\n",
        "\n",
        "# variable=input()\n",
        "\n",
        "#-------------------------------------------------------------#\n",
        "\n",
        "# How to take Output function :\n",
        "\n",
        "# To get the output we use : print() function\n",
        "\n",
        "# EX : for input and output function\n",
        "\n",
        "#-------------------------------------------------------------#\n",
        "\n",
        "a=input()\n",
        "print(a)"
      ],
      "metadata": {
        "colab": {
          "base_uri": "https://localhost:8080/"
        },
        "id": "Cd6nGJCUNLLM",
        "outputId": "da9d1084-7fdf-4820-8d52-b72bc172472b"
      },
      "execution_count": null,
      "outputs": [
        {
          "output_type": "stream",
          "name": "stdout",
          "text": [
            "samuyel\n",
            "samuyel\n"
          ]
        }
      ]
    },
    {
      "cell_type": "markdown",
      "source": [
        "VARIABLES\n"
      ],
      "metadata": {
        "id": "qZKOSia9hvk_"
      }
    },
    {
      "cell_type": "code",
      "source": [
        "# VARIABLES :\n",
        "\n",
        "# # It is used to store the data.\n",
        "# It is a container to store data so that we can use for further statements\n",
        "\n",
        "# EX :\n",
        "\n",
        "lp1=50000\n",
        "lp2=60000\n",
        "sum=lp1+lp2\n",
        "print(sum)\n",
        "\n",
        "# Here lp1 and lp2 are the variables to store the data"
      ],
      "metadata": {
        "colab": {
          "base_uri": "https://localhost:8080/"
        },
        "id": "H8rF1Xl3OnrR",
        "outputId": "53b45b2a-1648-4e1d-fdd8-400e0d858c9e"
      },
      "execution_count": null,
      "outputs": [
        {
          "output_type": "stream",
          "name": "stdout",
          "text": [
            "110000\n"
          ]
        }
      ]
    },
    {
      "cell_type": "markdown",
      "source": [
        "DATA TYPES"
      ],
      "metadata": {
        "id": "htLiWurRhzN_"
      }
    },
    {
      "cell_type": "code",
      "source": [
        "# DATA TYPES IN PYTHON :\n",
        "\n",
        "# 1. INT     : 1,-1,3 ( also called integer )\n",
        "# 2. FLOAT   : 1.24 , -3.14\n",
        "# 3. STRING  : samuyel , SAMUYEL\n",
        "# 4. BOOLEAN : true / false\n",
        "\n",
        "# EX :\n",
        "\n",
        "# INT\n",
        "age = 20\n",
        "\n",
        "# FLOAT\n",
        "height = 5.9\n",
        "\n",
        "# STRING\n",
        "name = \"Samuyel\"\n",
        "\n",
        "# BOOLEAN\n",
        "is_adult = age >= 18\n",
        "\n",
        "# OUTPUT\n",
        "print(\"Name        :\", name)\n",
        "print(\"Age         :\", age)\n",
        "print(\"Height (ft) :\", height)\n",
        "print(\"Is Adult?   :\", is_adult)\n"
      ],
      "metadata": {
        "colab": {
          "base_uri": "https://localhost:8080/"
        },
        "id": "YQLp0aihOoSt",
        "outputId": "cf485342-fc79-4101-8541-c4506c1e0cb2"
      },
      "execution_count": null,
      "outputs": [
        {
          "output_type": "stream",
          "name": "stdout",
          "text": [
            "Name        : Samuyel\n",
            "Age         : 20\n",
            "Height (ft) : 5.9\n",
            "Is Adult?   : True\n"
          ]
        }
      ]
    },
    {
      "cell_type": "markdown",
      "source": [
        "CONDITIONS"
      ],
      "metadata": {
        "id": "wh-Ggpr7h13-"
      }
    },
    {
      "cell_type": "code",
      "source": [
        "# # # CONDITIONS IN PYTHON :\n",
        "\n",
        "#-------------------------------------------------------------#\n",
        "\n",
        "# TYPES :\n",
        "# 1. IF CONDITION\n",
        "# 2. ELSE CONDITION\n",
        "# 3. ELIF CONDITION\n",
        "# 4. NESTED IF CONDITION (IF ELIF ELSE)\n",
        "\n",
        "#-------------------------------------------------------------#\n",
        "\n",
        "# # IF CONDITION :\n",
        "# if is used to run code only when a certain condition is true.\n",
        "\n",
        "# # ELIF CONDITION :\n",
        "# elif (else if) is used when you want to check multiple conditions one after another.\n",
        "\n",
        "# # NESTED IF CONDITION\n",
        "# Nested if means placing one if, elif, or else inside another — like decision inside a decision.\n",
        "\n",
        "# # ELSE CONDITION\n",
        "# else is used to run code when all the above conditions fail. It's like the final \"otherwise\" block.\n",
        "\n",
        "#-------------------------------------------------------------#\n",
        "\n",
        "# Syntax :\n",
        "\n",
        "#  if Condition :\n",
        "#      block of statement\n",
        "#  elif condition :\n",
        "#      block of statement\n",
        "#  else :\n",
        "#      block of statement\n",
        "\n",
        "#-------------------------------------------------------------#\n",
        "\n",
        "#EX :\n",
        "age = int(input())\n",
        "if age>=18:\n",
        "  print(\"eligible for voting\")\n",
        "else:\n",
        "  print(\"not eligible for voting\")\n",
        "\n"
      ],
      "metadata": {
        "colab": {
          "base_uri": "https://localhost:8080/"
        },
        "id": "6Wha7MdcOoc0",
        "outputId": "bb11b8a9-d37a-4802-bd17-55a83cb8dfde"
      },
      "execution_count": null,
      "outputs": [
        {
          "output_type": "stream",
          "name": "stdout",
          "text": [
            "18\n",
            "eligible for voting\n"
          ]
        }
      ]
    },
    {
      "cell_type": "code",
      "source": [
        "# TO FIND THE SECOND MAXIMUM NUMBER :\n",
        "\n",
        "a,b,c=map(int,input().split())\n",
        "\n",
        "if (a > b and a < c) or (a < b and a > c):\n",
        "    print(\"Second maximum is:\", a)\n",
        "elif (b > a and b < c) or (b < a and b > c):\n",
        "    print(\"Second maximum is:\", b)\n",
        "else:\n",
        "    print(\"Second maximum is:\",c)"
      ],
      "metadata": {
        "colab": {
          "base_uri": "https://localhost:8080/"
        },
        "id": "aMGk6GALOokh",
        "outputId": "e87ceda3-3295-49d6-929c-ca4083a0ac1b"
      },
      "execution_count": null,
      "outputs": [
        {
          "output_type": "stream",
          "name": "stdout",
          "text": [
            "10 22 12\n",
            "Second maximum is: 12\n"
          ]
        }
      ]
    },
    {
      "cell_type": "code",
      "source": [
        "# TO FIND SCHOLAR SHIP USING NESTED IF :\n",
        "\n",
        "marks = int(input(\"Enter marks: \"))\n",
        "income = int(input(\"Enter income: \"))\n",
        "\n",
        "if marks > 85:\n",
        "    if income > 200000 and income < 500000:\n",
        "        print(\"You are eligible for scholarship\")\n",
        "else:\n",
        "    print(\"Not eligible\")"
      ],
      "metadata": {
        "colab": {
          "base_uri": "https://localhost:8080/"
        },
        "id": "9sieLhZ3OoqV",
        "outputId": "e439a487-23eb-4868-d1cb-547961ef48e4"
      },
      "execution_count": null,
      "outputs": [
        {
          "output_type": "stream",
          "name": "stdout",
          "text": [
            "Enter marks: 90\n",
            "Enter income: 300000\n",
            "You are eligible for scholarship\n"
          ]
        }
      ]
    },
    {
      "cell_type": "code",
      "source": [
        "# AGE :\n",
        "\n",
        "a = int(input(\"enter age : \"))\n",
        "if a >= 1 and  a <= 12 :\n",
        "    print(\"child\")\n",
        "elif a >= 13 and  a <= 19:\n",
        "    print(\"teen age\")\n",
        "elif a >= 20 and  a <= 35:\n",
        "    print(\"young\")\n",
        "else:\n",
        "    print(\"old\")"
      ],
      "metadata": {
        "colab": {
          "base_uri": "https://localhost:8080/"
        },
        "id": "dr6rkisUOot4",
        "outputId": "46e2e156-e7a5-40ed-c232-f7497f153792"
      },
      "execution_count": null,
      "outputs": [
        {
          "output_type": "stream",
          "name": "stdout",
          "text": [
            "enter age : 67\n",
            "old\n"
          ]
        }
      ]
    },
    {
      "cell_type": "markdown",
      "source": [
        "LOOPS"
      ],
      "metadata": {
        "id": "UQ0mkRVHh55D"
      }
    },
    {
      "cell_type": "code",
      "execution_count": null,
      "metadata": {
        "id": "3076pV8UJlYT"
      },
      "outputs": [],
      "source": [
        "# # LOOPS :\n",
        "\n",
        "# #-------------------------------------------------------------#\n",
        "\n",
        "# # UNIVERSAL LANGUAGE SYNTAX FOR \"C\"\n",
        "# # for (initialisation;condition;step) {\n",
        "# #     block of statement\n",
        "# # }\n",
        "\n",
        "# #-------------------------------------------------------------#\n",
        "\n",
        "# # PYTHON LANGUAGE SYNTAX\n",
        "\n",
        "# # FOR LOOP :\n",
        "# # for i in range(start,end,step):\n",
        "# #     block of statement\n",
        "\n",
        "# #-------------------------------------------------------------#\n",
        "\n",
        "# # WHILE LOOP :\n",
        "# while condition:\n",
        "#     block of statement\n",
        "#     step"
      ]
    },
    {
      "cell_type": "code",
      "source": [
        "# FOR LOOP EX'S :\n",
        "\n",
        "# EX 1: FOR PYTHON\n",
        "for i in range(1,10,2):\n",
        "    print(i)\n",
        "\n",
        "#-------------------------------------------------------------#\n",
        "\n",
        "# EX 2: FOR PYTHON\n",
        "for i in range(10,0,-1):\n",
        "    print(i)"
      ],
      "metadata": {
        "colab": {
          "base_uri": "https://localhost:8080/"
        },
        "id": "CGkdjJGgK2h2",
        "outputId": "36394ad6-dea6-40ab-98ff-c093ae5bd84e"
      },
      "execution_count": null,
      "outputs": [
        {
          "output_type": "stream",
          "name": "stdout",
          "text": [
            "1\n",
            "3\n",
            "5\n",
            "7\n",
            "9\n",
            "10\n",
            "9\n",
            "8\n",
            "7\n",
            "6\n",
            "5\n",
            "4\n",
            "3\n",
            "2\n",
            "1\n"
          ]
        }
      ]
    },
    {
      "cell_type": "code",
      "source": [
        "# EX 1: WHILE LOOP\n",
        "i = 1\n",
        "while i < 11:\n",
        "    print(i)\n",
        "    i += 1\n",
        "\n",
        "#-------------------------------------------------------------#\n",
        "\n",
        "# EX 1: WHILE LOOP\n",
        "i = 10\n",
        "while i >= 1:\n",
        "    print(i)\n",
        "    i-= 1"
      ],
      "metadata": {
        "colab": {
          "base_uri": "https://localhost:8080/"
        },
        "id": "73rrr4wmLRv_",
        "outputId": "333f3da3-1c2c-44e7-bc72-99a9931266ea"
      },
      "execution_count": null,
      "outputs": [
        {
          "output_type": "stream",
          "name": "stdout",
          "text": [
            "1\n",
            "2\n",
            "3\n",
            "4\n",
            "5\n",
            "6\n",
            "7\n",
            "8\n",
            "9\n",
            "10\n",
            "10\n",
            "9\n",
            "8\n",
            "7\n",
            "6\n",
            "5\n",
            "4\n",
            "3\n",
            "2\n",
            "1\n"
          ]
        }
      ]
    },
    {
      "cell_type": "code",
      "source": [
        "a=17%2\n",
        "print(a)"
      ],
      "metadata": {
        "colab": {
          "base_uri": "https://localhost:8080/"
        },
        "id": "cHbXHHDyOO05",
        "outputId": "5fb13569-e11a-491f-838a-0a2a730eaf65"
      },
      "execution_count": null,
      "outputs": [
        {
          "output_type": "stream",
          "name": "stdout",
          "text": [
            "1\n"
          ]
        }
      ]
    },
    {
      "cell_type": "code",
      "source": [
        "# REVERSE A NUMBER :\n",
        "\n",
        "num = 121\n",
        "rev = 0\n",
        "\n",
        "while num != 0:\n",
        "    temp = num % 10\n",
        "    rev = rev * 10 + temp\n",
        "    num = num // 10\n",
        "print(\"Reversed Number:\", rev)\n",
        "if temp==rev:\n",
        "    print(\"palindrome\")\n",
        "else:\n",
        "    print(\"not palindrome\")\n"
      ],
      "metadata": {
        "colab": {
          "base_uri": "https://localhost:8080/"
        },
        "id": "vkzLSTUwfOQc",
        "outputId": "ac3dc3e3-7d82-4f7a-b8dc-a9e4592ff817"
      },
      "execution_count": null,
      "outputs": [
        {
          "output_type": "stream",
          "name": "stdout",
          "text": [
            "Reversed Number: 121\n",
            "not palindrome\n"
          ]
        }
      ]
    },
    {
      "cell_type": "code",
      "source": [
        "#TO REVERSE A STRING\n",
        "\n",
        "a=input()\n",
        "print(a[::-1])"
      ],
      "metadata": {
        "colab": {
          "base_uri": "https://localhost:8080/"
        },
        "id": "XmGIepskjgYT",
        "outputId": "8f0ac9c9-d8fd-430c-f00e-1b591a7c9a7d"
      },
      "execution_count": null,
      "outputs": [
        {
          "output_type": "stream",
          "name": "stdout",
          "text": [
            "leyumas\n",
            "samuyel\n"
          ]
        }
      ]
    },
    {
      "cell_type": "code",
      "source": [
        "#-------------------------------------------------------------# 03/07/2025  #-------------------------------------------------------------#"
      ],
      "metadata": {
        "id": "XOt2THgmajkw"
      },
      "execution_count": null,
      "outputs": []
    },
    {
      "cell_type": "code",
      "source": [
        "# STRING LENGHT USING WHILE\n",
        "n=int(input())\n",
        "# n = abs(n) for -ve\n",
        "count=0\n",
        "while n!=0 :\n",
        "  count+=1\n",
        "  n=n//10\n",
        "print(count)"
      ],
      "metadata": {
        "colab": {
          "base_uri": "https://localhost:8080/"
        },
        "id": "6JT2PO-_OEpR",
        "outputId": "2711a534-0077-4d67-bb39-2eedab3766d0"
      },
      "execution_count": null,
      "outputs": [
        {
          "output_type": "stream",
          "name": "stdout",
          "text": [
            "434532\n",
            "6\n"
          ]
        }
      ]
    },
    {
      "cell_type": "markdown",
      "source": [
        "ARMSTRONG NUMBER"
      ],
      "metadata": {
        "id": "iwpCa7C-iAB1"
      }
    },
    {
      "cell_type": "code",
      "source": [
        "#ARMSTRONG NUMBER BY AI\n",
        "\n",
        "\n",
        "n = int(input(\"Enter a number: \"))\n",
        "temp = n\n",
        "a = len(str(n))\n",
        "sum = 0\n",
        "\n",
        "while temp > 0:\n",
        "    c = temp % 10\n",
        "    sum += c ** a\n",
        "    temp //= 10\n",
        "\n",
        "if sum == n:\n",
        "    print(\" Armstrong number \")\n",
        "else:\n",
        "    print(\" NOT an Armstrong number \")\n",
        "\n",
        "\n",
        "\n",
        "\n",
        "\n",
        "\n",
        "# 🧠 Step-by-Step Baby-level Explanation:\n",
        "\n",
        "# 🔸 n = int(input(\"Enter a number: \"))\n",
        "# 👉 This line says: \"Hey user! Please give me a number\"\n",
        "# 🤖 Then it stores that number in a jar called n.\n",
        "\n",
        "# 🔸 temp = n\n",
        "# 👉 We make a copy of that number and call it temp\n",
        "# 🤔 Why? Because we’re going to break temp into pieces later, but we don’t want to touch the original number n.\n",
        "\n",
        "# 🔸 num_digits = len(str(n))\n",
        "# 🧮 This counts how many digits are in the number.\n",
        "# Example:\n",
        "\n",
        "# 153 → 3 digits\n",
        "\n",
        "# 9474 → 4 digits\n",
        "\n",
        "# We need this because Armstrong numbers use the power of digit count.\n",
        "\n",
        "# 🔸 sum = 0\n",
        "# 🥣 We prepare an empty bowl called sum\n",
        "# We’ll keep adding stuff into this bowl — specifically, each digit raised to a power!\n",
        "\n",
        "# 🔄 Now comes the while loop:\n",
        "\n",
        "# while temp > 0:\n",
        "#     c = temp % 10\n",
        "#     sum += c ** num_digits\n",
        "#     temp //= 10\n",
        "\n",
        "# Let’s break it real slow:\n",
        "\n",
        "# 🔸 c = temp % 10\n",
        "# 🧲 This pulls out the last digit of the number.\n",
        "# If temp = 153,\n",
        "# then 153 % 10 = 3 → So c = 3\n",
        "\n",
        "# 🔸 sum += c ** num_digits\n",
        "# 📈 Raise the digit c to the power of num_digits and add to sum.\n",
        "\n",
        "# Example:\n",
        "# If c = 3 and num_digits = 3 →\n",
        "# 3 ** 3 = 27 → So we add 27 into our bowl.\n",
        "\n",
        "# 🔸 temp //= 10\n",
        "# ✂️ We cut off the last digit from temp.\n",
        "# If temp = 153 → Now it becomes 15\n",
        "# We keep doing this until all digits are processed.\n",
        "\n",
        "# ❗ Final check:\n",
        "# python\n",
        "# Copy\n",
        "# Edit\n",
        "# if sum == n:\n",
        "#     print(\"Armstrong number\")\n",
        "# else:\n",
        "#     print(\"NOT an Armstrong number\")\n",
        "# 👉 We compare the final sum (from the bowl) to the original number.\n",
        "# If both are same — yayyy 🥳 it’s an Armstrong number!\n",
        "# Otherwise, nope 😢\n",
        "\n",
        "# ✅ Example:\n",
        "# Input: 153\n",
        "\n",
        "# So it's an Armstrong number!\n"
      ],
      "metadata": {
        "colab": {
          "base_uri": "https://localhost:8080/"
        },
        "id": "BghbzA2CRqgK",
        "outputId": "198f0250-0c49-46ae-b4b4-3c7d6a24de6b"
      },
      "execution_count": null,
      "outputs": [
        {
          "output_type": "stream",
          "name": "stdout",
          "text": [
            "Enter a number: 121\n",
            " NOT an Armstrong number \n"
          ]
        }
      ]
    },
    {
      "cell_type": "code",
      "source": [
        "# ARMSTRONG NUMBER BY SIR\n",
        "\n",
        "n = int(input(\"Enter a number: \"))\n",
        "a = n\n",
        "a2 = n\n",
        "if n<0 :\n",
        "  n=-n\n",
        "count=0\n",
        "while n!=0:\n",
        "  temp = n% 10\n",
        "  count+=1\n",
        "  n=n//10\n",
        "sum=0\n",
        "while a!=0:\n",
        "  temp=a%10\n",
        "  sum=sum+(temp**count)\n",
        "  a=a//10\n",
        "if sum==a2:\n",
        "  print(\"Armstrong number\")\n",
        "else:\n",
        "    print(\"NOT an Armstrong number\")"
      ],
      "metadata": {
        "colab": {
          "base_uri": "https://localhost:8080/"
        },
        "id": "a19tfOnDVMZv",
        "outputId": "945ffaea-ac7f-4abf-a1af-4af1be7f4ff2"
      },
      "execution_count": null,
      "outputs": [
        {
          "output_type": "stream",
          "name": "stdout",
          "text": [
            "Enter a number: 153\n",
            "Armstrong number\n"
          ]
        }
      ]
    },
    {
      "cell_type": "code",
      "source": [
        "# SUM OF NUMBERS\n",
        "\n",
        "n = int(input(\"Enter a number: \"))\n",
        "a = n\n",
        "a2 = n\n",
        "if n<0 :\n",
        "  n=-n\n",
        "count=0\n",
        "while n!=0:\n",
        "  temp = n% 10\n",
        "  count+=1\n",
        "  n=n//10\n",
        "sum=0\n",
        "while a!=0:\n",
        "  temp=a%10\n",
        "  sum=sum+(temp)\n",
        "  a=a//10\n",
        "print(sum)"
      ],
      "metadata": {
        "colab": {
          "base_uri": "https://localhost:8080/"
        },
        "id": "wbAB0pxga3CI",
        "outputId": "fdcdb447-46c4-4bc8-a596-83fec929b18c"
      },
      "execution_count": null,
      "outputs": [
        {
          "output_type": "stream",
          "name": "stdout",
          "text": [
            "Enter a number: 123\n",
            "6\n"
          ]
        }
      ]
    },
    {
      "cell_type": "markdown",
      "source": [
        "STATEMENTS"
      ],
      "metadata": {
        "id": "B3fyK50wiEAK"
      }
    },
    {
      "cell_type": "code",
      "source": [
        "# BREAK AND CONTINUE STATEMENTS\n",
        "\n",
        "#-------------------------------------------------------------#\n",
        "\n",
        "# CONTINUE :\n",
        "#  continue skips the rest of the current loop and jumps to the next iteration\n",
        "\n",
        "# EX :\n",
        "print(\"for continue\")\n",
        "for i in range (1,11):\n",
        "  if i==4:\n",
        "    continue\n",
        "  print(i)\n",
        "\n",
        "\n",
        "#-------------------------------------------------------------#\n",
        "print(\"\\n\")\n",
        "\n",
        "\n",
        "# BREAK :\n",
        "#break immediately stops the entire loop and jumps out of it.\n",
        "\n",
        "#EX :\n",
        "print(\"for break\")\n",
        "for i in range (1,11):\n",
        "  if i==4:\n",
        "    break\n",
        "  print(i)"
      ],
      "metadata": {
        "colab": {
          "base_uri": "https://localhost:8080/"
        },
        "id": "bcMB-Zqhbf6o",
        "outputId": "735dfbfd-b4bc-49fe-8119-6c54732eca85"
      },
      "execution_count": null,
      "outputs": [
        {
          "output_type": "stream",
          "name": "stdout",
          "text": [
            "for continue\n",
            "1\n",
            "2\n",
            "3\n",
            "5\n",
            "6\n",
            "7\n",
            "8\n",
            "9\n",
            "10\n",
            "\n",
            "\n",
            "for break\n",
            "1\n",
            "2\n",
            "3\n"
          ]
        }
      ]
    },
    {
      "cell_type": "code",
      "source": [
        "#-------------------------------------------------------------# 04/07/2025  #-------------------------------------------------------------#"
      ],
      "metadata": {
        "id": "Eyl2G59cdNTH"
      },
      "execution_count": null,
      "outputs": []
    },
    {
      "cell_type": "markdown",
      "source": [
        "PATTERNS"
      ],
      "metadata": {
        "id": "NuFGZCe6iHTk"
      }
    },
    {
      "cell_type": "code",
      "source": [
        "# PATTERNS :\n",
        "# IN BEFORE NESTED LOOP WE USED THIS TYPE TO PRINT PATTERNS\n",
        "# 🟨 Before Using Nested Loops Basic Pattern Printing\n",
        "# When we didn’t know about nested loops, we used to repeat the same for loop again and again manually to print patterns like a square of stars\n",
        "for i in range (1,5):\n",
        "  print(\"*\",end=' ')\n",
        "print()\n",
        "for i in range (1,5):\n",
        "  print(\"*\",end=' ')\n",
        "print()\n",
        "for i in range (1,5):\n",
        "  print(\"*\",end=' ')\n",
        "print()\n",
        "for i in range (1,5):\n",
        "  print(\"*\",end=' ')\n",
        "print()\n"
      ],
      "metadata": {
        "id": "PhOA4WO0dP6G",
        "colab": {
          "base_uri": "https://localhost:8080/"
        },
        "outputId": "beffe671-fba7-496a-8733-b656ca4bb831"
      },
      "execution_count": null,
      "outputs": [
        {
          "output_type": "stream",
          "name": "stdout",
          "text": [
            "* * * * \n",
            "* * * * \n",
            "* * * * \n",
            "* * * * \n"
          ]
        }
      ]
    },
    {
      "cell_type": "code",
      "source": [
        "# AFTER USING NESTED LOOPING\n",
        "l=10\n",
        "b=20\n",
        "for i in range (1,l+1):\n",
        "  for j in range (1,b+1):\n",
        "    print(\"*\",end='')\n",
        "  print()"
      ],
      "metadata": {
        "id": "zoAP8P0adNEh",
        "colab": {
          "base_uri": "https://localhost:8080/"
        },
        "outputId": "9ca30400-b3b6-4fb6-ffce-a6013983262a"
      },
      "execution_count": null,
      "outputs": [
        {
          "output_type": "stream",
          "name": "stdout",
          "text": [
            "********************\n",
            "********************\n",
            "********************\n",
            "********************\n",
            "********************\n",
            "********************\n",
            "********************\n",
            "********************\n",
            "********************\n",
            "********************\n"
          ]
        }
      ]
    },
    {
      "cell_type": "code",
      "source": [
        "# alphabet = {\n",
        "#     'A': [\"  *  \", \" * * \", \"*****\", \"*   *\", \"*   *\"],\n",
        "#     'B': [\"**** \", \"*   *\", \"**** \", \"*   *\", \"**** \"],\n",
        "#     'C': [\" ****\", \"*    \", \"*    \", \"*    \", \" ****\"],\n",
        "#     'D': [\"**** \", \"*   *\", \"*   *\", \"*   *\", \"**** \"],\n",
        "#     'E': [\"*****\", \"*    \", \"**** \", \"*    \", \"*****\"],\n",
        "#     'F': [\"*****\", \"*    \", \"**** \", \"*    \", \"*    \"],\n",
        "#     'G': [\" ****\", \"*    \", \"* ***\", \"*   *\", \" ****\"],\n",
        "#     'H': [\"*   *\", \"*   *\", \"*****\", \"*   *\", \"*   *\"],\n",
        "#     'I': [\"*****\", \"  *  \", \"  *  \", \"  *  \", \"*****\"],\n",
        "#     'J': [\"  ***\", \"   * \", \"   * \", \"*  * \", \" **  \"],\n",
        "#     'K': [\"*   *\", \"*  * \", \"***  \", \"*  * \", \"*   *\"],\n",
        "#     'L': [\"*    \", \"*    \", \"*    \", \"*    \", \"*****\"],\n",
        "#     'M': [\"*   *\", \"** **\", \"* * *\", \"*   *\", \"*   *\"],\n",
        "#     'N': [\"*   *\", \"**  *\", \"* * *\", \"*  **\", \"*   *\"],\n",
        "#     'O': [\" *** \", \"*   *\", \"*   *\", \"*   *\", \" *** \"],\n",
        "#     'P': [\"**** \", \"*   *\", \"**** \", \"*    \", \"*    \"],\n",
        "#     'Q': [\" *** \", \"*   *\", \"*   *\", \"*  **\", \" ****\"],\n",
        "#     'R': [\"**** \", \"*   *\", \"**** \", \"*  * \", \"*   *\"],\n",
        "#     'S': [\" ****\", \"*    \", \" *** \", \"    *\", \"**** \"],\n",
        "#     'T': [\"*****\", \"  *  \", \"  *  \", \"  *  \", \"  *  \"],\n",
        "#     'U': [\"*   *\", \"*   *\", \"*   *\", \"*   *\", \" *** \"],\n",
        "#     'V': [\"*   *\", \"*   *\", \"*   *\", \" * * \", \"  *  \"],\n",
        "#     'W': [\"*   *\", \"*   *\", \"* * *\", \"** **\", \"*   *\"],\n",
        "#     'X': [\"*   *\", \" * * \", \"  *  \", \" * * \", \"*   *\"],\n",
        "#     'Y': [\"*   *\", \" * * \", \"  *  \", \"  *  \", \"  *  \"],\n",
        "#     'Z': [\"*****\", \"   * \", \"  *  \", \" *   \", \"*****\"],\n",
        "# }\n",
        "\n",
        "# # 🔠 Get user input\n",
        "# name = input(\"Enter your name (in CAPITAL letters): \").upper()\n",
        "\n",
        "# # 🖨️ Print the star pattern line-by-line\n",
        "# for row in range(5):\n",
        "#     for char in name:\n",
        "#         if char in alphabet:\n",
        "#             print(alphabet[char][row], end=\"  \")\n",
        "#         else:\n",
        "#             print(\"     \", end=\"  \")  # space for unsupported chars\n",
        "#     print()\n"
      ],
      "metadata": {
        "id": "GYrwe81bdNCT"
      },
      "execution_count": null,
      "outputs": []
    },
    {
      "cell_type": "code",
      "source": [
        "n=1\n",
        "for i in range (1,n+1):\n",
        "  print(\"*\")"
      ],
      "metadata": {
        "id": "WpBQuZPfdNAf",
        "colab": {
          "base_uri": "https://localhost:8080/"
        },
        "outputId": "8cc3928d-d38b-4382-8985-265467dce0f8"
      },
      "execution_count": null,
      "outputs": [
        {
          "output_type": "stream",
          "name": "stdout",
          "text": [
            "*\n"
          ]
        }
      ]
    },
    {
      "cell_type": "code",
      "source": [
        "# USING NESTED\n",
        "n=int(input())\n",
        "for i in range (1,n+1):\n",
        "  for j in range (1,i+1):\n",
        "    print(\"*\",end='')\n",
        "  print()"
      ],
      "metadata": {
        "id": "9lZqyUIadM-B",
        "colab": {
          "base_uri": "https://localhost:8080/"
        },
        "outputId": "c5281c95-3ee2-4fb8-b330-3dc9bfd96344"
      },
      "execution_count": null,
      "outputs": [
        {
          "output_type": "stream",
          "name": "stdout",
          "text": [
            "5\n",
            "*\n",
            "**\n",
            "***\n",
            "****\n",
            "*****\n"
          ]
        }
      ]
    },
    {
      "cell_type": "code",
      "source": [
        "# prompt: generate an an code that take user input and print triangle by loop  with single input in that the middle has to gap\n",
        "\n",
        "n = int(input())\n",
        "\n",
        "for i in range(1, n + 1):\n",
        "    if i == 1:\n",
        "        print(\" \" * (n - i) + \"*\")\n",
        "    elif i == n:\n",
        "        print(\"*\" * (2 * i - 1))\n",
        "    else:\n",
        "\n",
        "        print(\" \" * (n - i) + \"*\" + \" \" * ((2 * i - 1) - 2) + \"*\")\n",
        "\n"
      ],
      "metadata": {
        "id": "pa89jQ_xdM7a",
        "colab": {
          "base_uri": "https://localhost:8080/"
        },
        "outputId": "792646b3-fb17-45d9-dbc4-de14175b3f2c"
      },
      "execution_count": null,
      "outputs": [
        {
          "output_type": "stream",
          "name": "stdout",
          "text": [
            "6\n",
            "     *\n",
            "    * *\n",
            "   *   *\n",
            "  *     *\n",
            " *       *\n",
            "***********\n"
          ]
        }
      ]
    },
    {
      "cell_type": "code",
      "source": [
        "n = int(input())\n",
        "\n",
        "if n > 0:\n",
        "    for i in range(1, n + 1):\n",
        "        print(\" \" * (n - i), end=\"\")  # add spaces before letters\n",
        "        for j in range(i):\n",
        "            print(chr(65 + j), end=\"\")\n",
        "        print()  # new line after each row\n",
        "else:\n",
        "    print(\"No output generated\")\n"
      ],
      "metadata": {
        "id": "KFPT7S3ddMrL",
        "colab": {
          "base_uri": "https://localhost:8080/"
        },
        "outputId": "3958e69f-bd0d-4535-c6c4-db819badf51e"
      },
      "execution_count": null,
      "outputs": [
        {
          "output_type": "stream",
          "name": "stdout",
          "text": [
            "5\n",
            "    A\n",
            "   AB\n",
            "  ABC\n",
            " ABCD\n",
            "ABCDE\n"
          ]
        }
      ]
    },
    {
      "cell_type": "code",
      "source": [
        "n = int(input(\"Enter number of rows: \"))\n",
        "\n",
        "# Upper half\n",
        "for i in range(1, n + 1):\n",
        "    print(\"*\" * i + \" \" * (2 * (n - i)) + \"*\" * i)\n",
        "\n",
        "# Lower half\n",
        "for i in range(n - 1, 0, -1):\n",
        "    print(\"*\" * i + \" \" * (2 * (n - i)) + \"*\" * i)\n"
      ],
      "metadata": {
        "id": "mykYk6FidMmr",
        "colab": {
          "base_uri": "https://localhost:8080/"
        },
        "outputId": "237d2221-505c-468b-fd04-e5cdbc1a3a83"
      },
      "execution_count": null,
      "outputs": [
        {
          "output_type": "stream",
          "name": "stdout",
          "text": [
            "Enter number of rows: 7\n",
            "*            *\n",
            "**          **\n",
            "***        ***\n",
            "****      ****\n",
            "*****    *****\n",
            "******  ******\n",
            "**************\n",
            "******  ******\n",
            "*****    *****\n",
            "****      ****\n",
            "***        ***\n",
            "**          **\n",
            "*            *\n"
          ]
        }
      ]
    },
    {
      "cell_type": "code",
      "source": [
        "# ASCII VALUES\n",
        "for i in range(1,256):\n",
        "  print(i,\"-> \",chr(i))"
      ],
      "metadata": {
        "id": "EhE0aD0xdMkR",
        "colab": {
          "base_uri": "https://localhost:8080/"
        },
        "outputId": "698d200c-7a49-40c8-c0a3-db9764bbdf6a"
      },
      "execution_count": null,
      "outputs": [
        {
          "output_type": "stream",
          "name": "stdout",
          "text": [
            "1 ->  \u0001\n",
            "2 ->  \u0002\n",
            "3 ->  \u0003\n",
            "4 ->  \u0004\n",
            "5 ->  \u0005\n",
            "6 ->  \u0006\n",
            "7 ->  \u0007\n",
            "8 ->  \b\n",
            "9 ->  \t\n",
            "10 ->  \n",
            "\n",
            "11 ->  \u000b\n",
            "12 ->  \f\n",
            "13 ->  \r\n",
            "14 ->  \u000e\n",
            "15 ->  \u000f\n",
            "16 ->  \u0010\n",
            "17 ->  \u0011\n",
            "18 ->  \u0012\n",
            "19 ->  \u0013\n",
            "20 ->  \u0014\n",
            "21 ->  \u0015\n",
            "22 ->  \u0016\n",
            "23 ->  \u0017\n",
            "24 ->  \u0018\n",
            "25 ->  \u0019\n",
            "26 ->  \u001a\n",
            "27 ->  \u001b\n",
            "28 ->  \u001c\n",
            "29 ->  \u001d\n",
            "30 ->  \u001e\n",
            "31 ->  \u001f\n",
            "32 ->   \n",
            "33 ->  !\n",
            "34 ->  \"\n",
            "35 ->  #\n",
            "36 ->  $\n",
            "37 ->  %\n",
            "38 ->  &\n",
            "39 ->  '\n",
            "40 ->  (\n",
            "41 ->  )\n",
            "42 ->  *\n",
            "43 ->  +\n",
            "44 ->  ,\n",
            "45 ->  -\n",
            "46 ->  .\n",
            "47 ->  /\n",
            "48 ->  0\n",
            "49 ->  1\n",
            "50 ->  2\n",
            "51 ->  3\n",
            "52 ->  4\n",
            "53 ->  5\n",
            "54 ->  6\n",
            "55 ->  7\n",
            "56 ->  8\n",
            "57 ->  9\n",
            "58 ->  :\n",
            "59 ->  ;\n",
            "60 ->  <\n",
            "61 ->  =\n",
            "62 ->  >\n",
            "63 ->  ?\n",
            "64 ->  @\n",
            "65 ->  A\n",
            "66 ->  B\n",
            "67 ->  C\n",
            "68 ->  D\n",
            "69 ->  E\n",
            "70 ->  F\n",
            "71 ->  G\n",
            "72 ->  H\n",
            "73 ->  I\n",
            "74 ->  J\n",
            "75 ->  K\n",
            "76 ->  L\n",
            "77 ->  M\n",
            "78 ->  N\n",
            "79 ->  O\n",
            "80 ->  P\n",
            "81 ->  Q\n",
            "82 ->  R\n",
            "83 ->  S\n",
            "84 ->  T\n",
            "85 ->  U\n",
            "86 ->  V\n",
            "87 ->  W\n",
            "88 ->  X\n",
            "89 ->  Y\n",
            "90 ->  Z\n",
            "91 ->  [\n",
            "92 ->  \\\n",
            "93 ->  ]\n",
            "94 ->  ^\n",
            "95 ->  _\n",
            "96 ->  `\n",
            "97 ->  a\n",
            "98 ->  b\n",
            "99 ->  c\n",
            "100 ->  d\n",
            "101 ->  e\n",
            "102 ->  f\n",
            "103 ->  g\n",
            "104 ->  h\n",
            "105 ->  i\n",
            "106 ->  j\n",
            "107 ->  k\n",
            "108 ->  l\n",
            "109 ->  m\n",
            "110 ->  n\n",
            "111 ->  o\n",
            "112 ->  p\n",
            "113 ->  q\n",
            "114 ->  r\n",
            "115 ->  s\n",
            "116 ->  t\n",
            "117 ->  u\n",
            "118 ->  v\n",
            "119 ->  w\n",
            "120 ->  x\n",
            "121 ->  y\n",
            "122 ->  z\n",
            "123 ->  {\n",
            "124 ->  |\n",
            "125 ->  }\n",
            "126 ->  ~\n",
            "127 ->  \n",
            "128 ->  \n",
            "129 ->  \n",
            "130 ->  \n",
            "131 ->  \n",
            "132 ->  \n",
            "133 ->  \n",
            "134 ->  \n",
            "135 ->  \n",
            "136 ->  \n",
            "137 ->  \n",
            "138 ->  \n",
            "139 ->  \n",
            "140 ->  \n",
            "141 ->  \n",
            "142 ->  \n",
            "143 ->  \n",
            "144 ->  \n",
            "145 ->  \n",
            "146 ->  \n",
            "147 ->  \n",
            "148 ->  \n",
            "149 ->  \n",
            "150 ->  \n",
            "151 ->  \n",
            "152 ->  \n",
            "153 ->  \n",
            "154 ->  \n",
            "155 ->  \n",
            "156 ->  \n",
            "157 ->  \n",
            "158 ->  \n",
            "159 ->  \n",
            "160 ->   \n",
            "161 ->  ¡\n",
            "162 ->  ¢\n",
            "163 ->  £\n",
            "164 ->  ¤\n",
            "165 ->  ¥\n",
            "166 ->  ¦\n",
            "167 ->  §\n",
            "168 ->  ¨\n",
            "169 ->  ©\n",
            "170 ->  ª\n",
            "171 ->  «\n",
            "172 ->  ¬\n",
            "173 ->  ­\n",
            "174 ->  ®\n",
            "175 ->  ¯\n",
            "176 ->  °\n",
            "177 ->  ±\n",
            "178 ->  ²\n",
            "179 ->  ³\n",
            "180 ->  ´\n",
            "181 ->  µ\n",
            "182 ->  ¶\n",
            "183 ->  ·\n",
            "184 ->  ¸\n",
            "185 ->  ¹\n",
            "186 ->  º\n",
            "187 ->  »\n",
            "188 ->  ¼\n",
            "189 ->  ½\n",
            "190 ->  ¾\n",
            "191 ->  ¿\n",
            "192 ->  À\n",
            "193 ->  Á\n",
            "194 ->  Â\n",
            "195 ->  Ã\n",
            "196 ->  Ä\n",
            "197 ->  Å\n",
            "198 ->  Æ\n",
            "199 ->  Ç\n",
            "200 ->  È\n",
            "201 ->  É\n",
            "202 ->  Ê\n",
            "203 ->  Ë\n",
            "204 ->  Ì\n",
            "205 ->  Í\n",
            "206 ->  Î\n",
            "207 ->  Ï\n",
            "208 ->  Ð\n",
            "209 ->  Ñ\n",
            "210 ->  Ò\n",
            "211 ->  Ó\n",
            "212 ->  Ô\n",
            "213 ->  Õ\n",
            "214 ->  Ö\n",
            "215 ->  ×\n",
            "216 ->  Ø\n",
            "217 ->  Ù\n",
            "218 ->  Ú\n",
            "219 ->  Û\n",
            "220 ->  Ü\n",
            "221 ->  Ý\n",
            "222 ->  Þ\n",
            "223 ->  ß\n",
            "224 ->  à\n",
            "225 ->  á\n",
            "226 ->  â\n",
            "227 ->  ã\n",
            "228 ->  ä\n",
            "229 ->  å\n",
            "230 ->  æ\n",
            "231 ->  ç\n",
            "232 ->  è\n",
            "233 ->  é\n",
            "234 ->  ê\n",
            "235 ->  ë\n",
            "236 ->  ì\n",
            "237 ->  í\n",
            "238 ->  î\n",
            "239 ->  ï\n",
            "240 ->  ð\n",
            "241 ->  ñ\n",
            "242 ->  ò\n",
            "243 ->  ó\n",
            "244 ->  ô\n",
            "245 ->  õ\n",
            "246 ->  ö\n",
            "247 ->  ÷\n",
            "248 ->  ø\n",
            "249 ->  ù\n",
            "250 ->  ú\n",
            "251 ->  û\n",
            "252 ->  ü\n",
            "253 ->  ý\n",
            "254 ->  þ\n",
            "255 ->  ÿ\n"
          ]
        }
      ]
    },
    {
      "cell_type": "code",
      "source": [
        "# ABCD PATTERN\n",
        "n=5\n",
        "for i in range(1,n+1):\n",
        "  k='A'\n",
        "  for j in range(1,i+1):\n",
        "    print(k,end=\"\")\n",
        "    k=(ord(k)+1)\n",
        "    k=chr(k)\n",
        "  print()"
      ],
      "metadata": {
        "colab": {
          "base_uri": "https://localhost:8080/"
        },
        "id": "-GNZm1632eIy",
        "outputId": "1d9a4e3f-c342-4921-c528-8a03ed65cd97"
      },
      "execution_count": null,
      "outputs": [
        {
          "output_type": "stream",
          "name": "stdout",
          "text": [
            "A\n",
            "AB\n",
            "ABC\n",
            "ABCD\n",
            "ABCDE\n"
          ]
        }
      ]
    },
    {
      "cell_type": "code",
      "source": [
        "height = int(input(\"Enter the height of the triangle: \"))\n",
        "for i in range(1, height + 1):\n",
        "    print(\" \" * (height - i), end=\"\")\n",
        "    for j in range(1, 2 * i): # Added inner loop for columns\n",
        "        if i == height or j == 1 or j == 2 * i - 1:\n",
        "            print(\"*\", end=\"\")\n",
        "        else:\n",
        "            print(\" \", end=\"\")\n",
        "    print()"
      ],
      "metadata": {
        "colab": {
          "base_uri": "https://localhost:8080/"
        },
        "id": "b9vun0sH6bGF",
        "outputId": "e7aa461d-438d-40a9-81a0-15e6668acb56"
      },
      "execution_count": null,
      "outputs": [
        {
          "output_type": "stream",
          "name": "stdout",
          "text": [
            "Enter the height of the triangle: 5\n",
            "    *\n",
            "   * *\n",
            "  *   *\n",
            " *     *\n",
            "*********\n"
          ]
        }
      ]
    },
    {
      "cell_type": "code",
      "source": [
        "#-------------------------------------------------------------# 09/07/2025  #-------------------------------------------------------------#"
      ],
      "metadata": {
        "id": "7gicyxv5HlZv"
      },
      "execution_count": null,
      "outputs": []
    },
    {
      "cell_type": "code",
      "source": [
        "# FUNCTIONS\n",
        "\n",
        "#BEFORE FUNCTIONS\n",
        "for i in range (1,11) :\n",
        "  print(i)\n",
        "for i in range (11,21) :\n",
        "  print(i)\n",
        "for i in range (21,51) :\n",
        "  print(i)\n",
        "for i in range (1,11) :\n",
        "  print(i)\n",
        "for i in range (1,11) :\n",
        "  print(i)\n",
        "for i in range (1,11) :\n",
        "  print(i)"
      ],
      "metadata": {
        "colab": {
          "base_uri": "https://localhost:8080/"
        },
        "id": "ErP36dBjHpzm",
        "outputId": "c58b5e45-aead-4ef1-ff0c-9cde1b6d8b0b"
      },
      "execution_count": null,
      "outputs": [
        {
          "output_type": "stream",
          "name": "stdout",
          "text": [
            "1\n",
            "2\n",
            "3\n",
            "4\n",
            "5\n",
            "6\n",
            "7\n",
            "8\n",
            "9\n",
            "10\n",
            "11\n",
            "12\n",
            "13\n",
            "14\n",
            "15\n",
            "16\n",
            "17\n",
            "18\n",
            "19\n",
            "20\n",
            "21\n",
            "22\n",
            "23\n",
            "24\n",
            "25\n",
            "26\n",
            "27\n",
            "28\n",
            "29\n",
            "30\n",
            "31\n",
            "32\n",
            "33\n",
            "34\n",
            "35\n",
            "36\n",
            "37\n",
            "38\n",
            "39\n",
            "40\n",
            "41\n",
            "42\n",
            "43\n",
            "44\n",
            "45\n",
            "46\n",
            "47\n",
            "48\n",
            "49\n",
            "50\n",
            "1\n",
            "2\n",
            "3\n",
            "4\n",
            "5\n",
            "6\n",
            "7\n",
            "8\n",
            "9\n",
            "10\n",
            "1\n",
            "2\n",
            "3\n",
            "4\n",
            "5\n",
            "6\n",
            "7\n",
            "8\n",
            "9\n",
            "10\n",
            "1\n",
            "2\n",
            "3\n",
            "4\n",
            "5\n",
            "6\n",
            "7\n",
            "8\n",
            "9\n",
            "10\n"
          ]
        }
      ]
    },
    {
      "cell_type": "code",
      "source": [
        "for i in range (1,11) :\n",
        "  print(i)\n",
        "  print()"
      ],
      "metadata": {
        "colab": {
          "base_uri": "https://localhost:8080/"
        },
        "id": "_DEl136nLQLb",
        "outputId": "adf905ca-fd62-44d6-d47b-7222ffd14bf8"
      },
      "execution_count": null,
      "outputs": [
        {
          "output_type": "stream",
          "name": "stdout",
          "text": [
            "1\n",
            "\n",
            "2\n",
            "\n",
            "3\n",
            "\n",
            "4\n",
            "\n",
            "5\n",
            "\n",
            "6\n",
            "\n",
            "7\n",
            "\n",
            "8\n",
            "\n",
            "9\n",
            "\n",
            "10\n",
            "\n"
          ]
        }
      ]
    },
    {
      "cell_type": "markdown",
      "source": [
        "FUNCTIONS"
      ],
      "metadata": {
        "id": "vyCprTggiNHQ"
      }
    },
    {
      "cell_type": "code",
      "source": [
        "#FUNCTIONS\n",
        "\n",
        "# SYNTAX\n",
        "# WORKING PROCESS\n",
        "# REAL TIME EXAMPLE\n",
        "\n",
        "\n",
        "# SYNTAX\n",
        "# def functionName ():\n",
        "#   block of code\n",
        "\n",
        "# functioncalling()\n",
        "\n",
        "# def key word is uesd to define a function\n",
        "# '()' these are parenticies\n",
        "# block of code used to define a code\n",
        "# functioncalling is used to call the function\n",
        "\n",
        "# BEFORE FUNCTIONS WE USE FOR LOOP FOR PRINTING NUMBERS OR SOMETHING ETC\n",
        "\n",
        "# AFTER FUNCTIONS WE USE FUNCTIONS FOR PRINTING NUMBERS OR SOMETHING IN EASY WAY\n",
        "\n",
        "# EX :1\n",
        "\n",
        "def function ():\n",
        "  for i in range (1,11) :\n",
        "    print(i)\n",
        "  print()\n",
        "function()\n",
        "function()\n",
        "\n",
        "# EX :2\n",
        "def spoc ():\n",
        "  print(\"INSTRUCTED ABOUT ATTENDANCE AND FINE\")\n",
        "spoc()\n"
      ],
      "metadata": {
        "colab": {
          "base_uri": "https://localhost:8080/"
        },
        "id": "6qYnkQYoLYZ7",
        "outputId": "425f37d1-ad26-49fc-b099-d5f3ec59ff14"
      },
      "execution_count": null,
      "outputs": [
        {
          "output_type": "stream",
          "name": "stdout",
          "text": [
            "1\n",
            "2\n",
            "3\n",
            "4\n",
            "5\n",
            "6\n",
            "7\n",
            "8\n",
            "9\n",
            "10\n",
            "\n",
            "1\n",
            "2\n",
            "3\n",
            "4\n",
            "5\n",
            "6\n",
            "7\n",
            "8\n",
            "9\n",
            "10\n",
            "\n",
            "INSTRUCTED ABOUT ATTENDANCE AND FINE\n"
          ]
        }
      ]
    },
    {
      "cell_type": "code",
      "source": [
        "#EX :3\n",
        "\n",
        "def fun1to10():\n",
        "  for i in range (1,11) :\n",
        "    print(i,end=' ')\n",
        "  print()\n",
        "def fun11to20():\n",
        "  for i in range (11,21) :\n",
        "    print(i,end=' ')\n",
        "  print()\n",
        "def fun21to50():\n",
        "  for i in range (21,51) :\n",
        "    print(i,end=' ')\n",
        "fun1to10()\n",
        "fun11to20()\n",
        "fun21to50()"
      ],
      "metadata": {
        "colab": {
          "base_uri": "https://localhost:8080/"
        },
        "id": "ZKhdfCIsP2WH",
        "outputId": "d7d6f63f-81c1-4b6d-b9f6-b02c6d97ec3d"
      },
      "execution_count": null,
      "outputs": [
        {
          "output_type": "stream",
          "name": "stdout",
          "text": [
            "1 2 3 4 5 6 7 8 9 10 \n",
            "11 12 13 14 15 16 17 18 19 20 \n",
            "21 22 23 24 25 26 27 28 29 30 31 32 33 34 35 36 37 38 39 40 41 42 43 44 45 46 47 48 49 50 "
          ]
        }
      ]
    },
    {
      "cell_type": "code",
      "source": [
        "#EX :4\n",
        "\n",
        "def fun1to10(st,end):\n",
        "  for i in range (st,end+1):\n",
        "    print(i,end=' ')\n",
        "  print()\n",
        "fun1to10(1,10)\n",
        "fun1to10(12,35)"
      ],
      "metadata": {
        "colab": {
          "base_uri": "https://localhost:8080/"
        },
        "id": "7f6bxLstS404",
        "outputId": "6e2c59cb-c4d7-464d-ecef-79e9180c54ed"
      },
      "execution_count": null,
      "outputs": [
        {
          "output_type": "stream",
          "name": "stdout",
          "text": [
            "1 2 3 4 5 6 7 8 9 10 \n",
            "12 13 14 15 16 17 18 19 20 21 22 23 24 25 26 27 28 29 30 31 32 33 34 35 \n"
          ]
        }
      ]
    },
    {
      "cell_type": "code",
      "source": [
        "# # TYPES OF USER DEFINED FUNCTIONS :\n",
        "# 1.WITHOUT RETURN TYPE WITHOUT PARAMETERS\n",
        "# 2.WITHOUT RETURN TYPE WITH PARAMETERS\n",
        "# 3.WITH RETURN TYPE WITHOUT PARAMETERS\n",
        "# 4.WITH RETURN TYPE WITH PARAMETERS"
      ],
      "metadata": {
        "id": "-DogdVcvUQrs"
      },
      "execution_count": null,
      "outputs": []
    },
    {
      "cell_type": "code",
      "source": [
        "# 1.WITHOUT RETURN TYPE WITHOUT PARAMETERS\n",
        "def function ():\n",
        "  for i in range (1,11) :\n",
        "    print(i)\n",
        "  print()\n",
        "function()"
      ],
      "metadata": {
        "id": "pMe_UEQtU2RF",
        "colab": {
          "base_uri": "https://localhost:8080/"
        },
        "outputId": "3a022153-8e60-417e-d816-98c02ef5e21d"
      },
      "execution_count": null,
      "outputs": [
        {
          "output_type": "stream",
          "name": "stdout",
          "text": [
            "1\n",
            "2\n",
            "3\n",
            "4\n",
            "5\n",
            "6\n",
            "7\n",
            "8\n",
            "9\n",
            "10\n",
            "\n"
          ]
        }
      ]
    },
    {
      "cell_type": "code",
      "source": [
        "#HEAVY CODE WITHOUT USING PARAMETERS\n",
        "\n",
        "def sumof1to10():\n",
        "  sum=0\n",
        "  for i in range (1,11):\n",
        "    sum=sum+i\n",
        "  print(sum)\n",
        "  print()\n",
        "def sumof1to20():\n",
        "  sum=0\n",
        "  for i in  range(1,21):\n",
        "    sum=sum+i\n",
        "  print(sum)\n",
        "sumof1to10()\n",
        "sumof1to20()"
      ],
      "metadata": {
        "id": "PfgFCsZXdkPb",
        "colab": {
          "base_uri": "https://localhost:8080/"
        },
        "outputId": "82ab8927-1afb-4241-ddee-2fd92dc46432"
      },
      "execution_count": null,
      "outputs": [
        {
          "output_type": "stream",
          "name": "stdout",
          "text": [
            "55\n",
            "\n",
            "210\n"
          ]
        }
      ]
    },
    {
      "cell_type": "code",
      "source": [
        "# 2.WITHOUT RETURN TYPE WITH PARAMETERS\n",
        "def fun1to10(st,end):\n",
        "  for i in range (st,end+1):\n",
        "    print(i,end=' ')\n",
        "  print()\n",
        "fun1to10(1,10)"
      ],
      "metadata": {
        "id": "Toc0z1zyVksb",
        "colab": {
          "base_uri": "https://localhost:8080/"
        },
        "outputId": "ef8c26ca-432e-4c5e-e06b-bcb70ef18401"
      },
      "execution_count": null,
      "outputs": [
        {
          "output_type": "stream",
          "name": "stdout",
          "text": [
            "1 2 3 4 5 6 7 8 9 10 \n"
          ]
        }
      ]
    },
    {
      "cell_type": "code",
      "source": [
        "#OPTIMIZED CODE BY USING PARAMETERS\n",
        "def sum(end):\n",
        "  sum=0\n",
        "  for i in range (1,end+1):\n",
        "    sum=sum+i\n",
        "  print(sum)\n",
        "  print()\n",
        "sum(10)\n",
        "sum(20)\n"
      ],
      "metadata": {
        "id": "3rIr3zdrdnkd",
        "colab": {
          "base_uri": "https://localhost:8080/"
        },
        "outputId": "ffd7b067-d887-49d9-8d9f-128b745eb565"
      },
      "execution_count": null,
      "outputs": [
        {
          "output_type": "stream",
          "name": "stdout",
          "text": [
            "55\n",
            "\n",
            "210\n",
            "\n"
          ]
        }
      ]
    },
    {
      "cell_type": "code",
      "source": [
        "# BRUTEFORCE : THE INSTANT WORK DONE (WORST CASE)\n",
        "# OPTIMIZED : AN ORDER TO DONE THE WORK (BEST CASE)"
      ],
      "metadata": {
        "id": "p2Nfedl_XivV"
      },
      "execution_count": null,
      "outputs": []
    },
    {
      "cell_type": "code",
      "source": [
        "# 3. with  return type  without  parameter\n",
        "def sum():\n",
        "  sum=0\n",
        "  for  i in range(1,21):\n",
        "    sum=sum+i\n",
        "  return sum\n",
        "var1=sum()\n",
        "var2=sum()\n",
        "print(var1)\n",
        "print(var2)\n",
        "sum=var1+var2\n",
        "print(sum)"
      ],
      "metadata": {
        "colab": {
          "base_uri": "https://localhost:8080/"
        },
        "id": "wSIkM7AAcu_3",
        "outputId": "bde733fe-4957-400e-8871-b6a14579f93b"
      },
      "execution_count": null,
      "outputs": [
        {
          "output_type": "stream",
          "name": "stdout",
          "text": [
            "210\n",
            "210\n",
            "420\n"
          ]
        }
      ]
    },
    {
      "cell_type": "code",
      "source": [
        "# 4.WITH RETURN TYPE WITH PARAMETERS\n",
        "def sum(end):\n",
        "  sum=0\n",
        "  for i in range(end+1):\n",
        "    sum=sum+i\n",
        "  return sum\n",
        "var1=sum(20)\n",
        "var2=sum(40)\n",
        "print(var1)\n",
        "print(var2)\n",
        "sum=var1+var2\n",
        "print(sum)\n"
      ],
      "metadata": {
        "colab": {
          "base_uri": "https://localhost:8080/"
        },
        "id": "5kVIrSKldozv",
        "outputId": "80cce3ad-6cc8-4592-a15f-62e8739262d8"
      },
      "execution_count": null,
      "outputs": [
        {
          "output_type": "stream",
          "name": "stdout",
          "text": [
            "210\n",
            "820\n",
            "1030\n"
          ]
        }
      ]
    },
    {
      "cell_type": "code",
      "source": [
        "#GREATEST NUMBER USING FUNCTIONS\n",
        "def greatestnumber(a,b,c):\n",
        "  if a>b and a>c :\n",
        "    print(\"a is greatest\")\n",
        "  elif b>a and b>c :\n",
        "    print(\"b is greatest\")\n",
        "  else :\n",
        "    print(\"c is greatest\")\n",
        "a,b,c=map(int,input().split()) # Corrected line: added () to call split()\n",
        "greatestnumber(a,b,c)"
      ],
      "metadata": {
        "colab": {
          "base_uri": "https://localhost:8080/"
        },
        "id": "2dvznfQXeId8",
        "outputId": "5f00183c-b6e6-49ae-c50f-8cc4be83ed77"
      },
      "execution_count": null,
      "outputs": [
        {
          "output_type": "stream",
          "name": "stdout",
          "text": [
            "10 12 13\n",
            "c is greatest\n"
          ]
        }
      ]
    },
    {
      "cell_type": "code",
      "source": [
        "# MAKING OF BUTTERFLY PATTERN\n",
        "n=int(input())\n",
        "for i in range(1,n+1):\n",
        "  for j in range (i):\n",
        "    print(\"*\",end='')\n",
        "  print()\n",
        "for i in range(n,0,-1):\n",
        "  for j in range (i):\n",
        "    print(\"*\",end='')\n",
        "  print()"
      ],
      "metadata": {
        "colab": {
          "base_uri": "https://localhost:8080/"
        },
        "id": "iGEeZ5VAgfjB",
        "outputId": "61c1165c-5341-4177-a2a4-25c439ef1137"
      },
      "execution_count": null,
      "outputs": [
        {
          "output_type": "stream",
          "name": "stdout",
          "text": [
            "6\n",
            "*\n",
            "**\n",
            "***\n",
            "****\n",
            "*****\n",
            "******\n",
            "******\n",
            "*****\n",
            "****\n",
            "***\n",
            "**\n",
            "*\n"
          ]
        }
      ]
    },
    {
      "cell_type": "code",
      "source": [
        "# BUTTER FLY\n",
        "n=int(input())\n",
        "for i in range (1,n+1):\n",
        "    for j in range(1,i+1):#1\n",
        "        print(\"*\",end=\"\")\n",
        "    for j in range(1,n-i+1):#2 (spaces)\n",
        "        print(\" \",end=\"\")\n",
        "    for j in range(1,n-i+1):#2 (spaces)\n",
        "        print(\" \",end=\"\")\n",
        "    for j in range(1,i+1):#1\n",
        "        print(\"*\",end=\"\")\n",
        "    print()\n",
        "for i in range (n,0,-1):\n",
        "    for j in range(1,i+1):#2 (spaces)\n",
        "        print(\"*\",end=\"\")\n",
        "    for j in range(1,n-i+1):#2 (spaces)\n",
        "        print(\" \",end=\"\")\n",
        "    for j in range(1,n-i+1):#1\n",
        "        print(\" \",end=\"\")\n",
        "    for j in range(1,i+1):#1\n",
        "        print(\"*\",end=\"\")\n",
        "    print()\n",
        "\n",
        "\n"
      ],
      "metadata": {
        "colab": {
          "base_uri": "https://localhost:8080/"
        },
        "id": "6M-EOL7FlDNa",
        "outputId": "fbc608b4-a91c-4442-a601-815d843fca65"
      },
      "execution_count": null,
      "outputs": [
        {
          "output_type": "stream",
          "name": "stdout",
          "text": [
            "7\n",
            "*            *\n",
            "**          **\n",
            "***        ***\n",
            "****      ****\n",
            "*****    *****\n",
            "******  ******\n",
            "**************\n",
            "**************\n",
            "******  ******\n",
            "*****    *****\n",
            "****      ****\n",
            "***        ***\n",
            "**          **\n",
            "*            *\n"
          ]
        }
      ]
    },
    {
      "cell_type": "code",
      "source": [
        "#-------------------------------------------------------------# 10/07/2025  #-------------------------------------------------------------#"
      ],
      "metadata": {
        "id": "FI5UHUw3SMJt"
      },
      "execution_count": null,
      "outputs": []
    },
    {
      "cell_type": "code",
      "source": [
        "# BRUTE FORCE APPROACH (LV:1)\n",
        "\n",
        "def f1():\n",
        "  print(\"1\")\n",
        "def f2():\n",
        "  print(\"2\")\n",
        "def f3():\n",
        "  print(\"3\")\n",
        "def f4():\n",
        "  print(\"4\")\n",
        "def f5():\n",
        "  print(\"5\")\n",
        "\n",
        "f1()\n",
        "f2()\n",
        "f3()\n",
        "f4()\n",
        "f5()"
      ],
      "metadata": {
        "colab": {
          "base_uri": "https://localhost:8080/"
        },
        "id": "NWqcJdiVSZCe",
        "outputId": "27925860-5f5b-43b3-d99c-65d523480ae4"
      },
      "execution_count": null,
      "outputs": [
        {
          "output_type": "stream",
          "name": "stdout",
          "text": [
            "1\n",
            "2\n",
            "3\n",
            "4\n",
            "5\n"
          ]
        }
      ]
    },
    {
      "cell_type": "code",
      "source": [
        "# BRUTE FORCE APPROACH (LV:2)\n",
        "\n",
        "def f1():\n",
        "  print(\"1\")\n",
        "  f2()\n",
        "def f2():\n",
        "  print(\"2\")\n",
        "  f3()\n",
        "def f3():\n",
        "  print(\"3\")\n",
        "  f4()\n",
        "def f4():\n",
        "  print(\"4\")\n",
        "  f5()\n",
        "def f5():\n",
        "  print(\"5\")\n",
        "f1()"
      ],
      "metadata": {
        "colab": {
          "base_uri": "https://localhost:8080/"
        },
        "id": "z0UMxOOFUcvJ",
        "outputId": "37d48753-b7a0-4228-9035-df5057cda1b1"
      },
      "execution_count": null,
      "outputs": [
        {
          "output_type": "stream",
          "name": "stdout",
          "text": [
            "1\n",
            "2\n",
            "3\n",
            "4\n",
            "5\n"
          ]
        }
      ]
    },
    {
      "cell_type": "code",
      "source": [
        "# BRUTE FORCE APPROACH (LV:3)\n",
        "\n",
        "def f1(v):\n",
        "  print(v)\n",
        "  f2(v+1)\n",
        "def f2(v):\n",
        "  print(v)\n",
        "  f3(v+1)\n",
        "def f3(v):\n",
        "  print(v)\n",
        "  f4(v+1)\n",
        "def f4(v):\n",
        "  print(v)\n",
        "  f5(v+1)\n",
        "def f5(v):\n",
        "  print(v)\n",
        "f1(1)"
      ],
      "metadata": {
        "colab": {
          "base_uri": "https://localhost:8080/"
        },
        "id": "Imu7E35sWiX6",
        "outputId": "8924b29f-2ab3-49e5-b28a-bd44e864f4ee"
      },
      "execution_count": null,
      "outputs": [
        {
          "output_type": "stream",
          "name": "stdout",
          "text": [
            "1\n",
            "2\n",
            "3\n",
            "4\n",
            "5\n"
          ]
        }
      ]
    },
    {
      "cell_type": "code",
      "source": [
        "def f(v):\n",
        "  print(v)\n",
        "  if v < 500:\n",
        "    f(v+1)\n",
        "\n",
        "f(1)"
      ],
      "metadata": {
        "colab": {
          "base_uri": "https://localhost:8080/"
        },
        "id": "m4HEE9BUYxXl",
        "outputId": "44200a9d-718e-49af-f346-c72200a7244a"
      },
      "execution_count": null,
      "outputs": [
        {
          "output_type": "stream",
          "name": "stdout",
          "text": [
            "1\n",
            "2\n",
            "3\n",
            "4\n",
            "5\n",
            "6\n",
            "7\n",
            "8\n",
            "9\n",
            "10\n",
            "11\n",
            "12\n",
            "13\n",
            "14\n",
            "15\n",
            "16\n",
            "17\n",
            "18\n",
            "19\n",
            "20\n",
            "21\n",
            "22\n",
            "23\n",
            "24\n",
            "25\n",
            "26\n",
            "27\n",
            "28\n",
            "29\n",
            "30\n",
            "31\n",
            "32\n",
            "33\n",
            "34\n",
            "35\n",
            "36\n",
            "37\n",
            "38\n",
            "39\n",
            "40\n",
            "41\n",
            "42\n",
            "43\n",
            "44\n",
            "45\n",
            "46\n",
            "47\n",
            "48\n",
            "49\n",
            "50\n",
            "51\n",
            "52\n",
            "53\n",
            "54\n",
            "55\n",
            "56\n",
            "57\n",
            "58\n",
            "59\n",
            "60\n",
            "61\n",
            "62\n",
            "63\n",
            "64\n",
            "65\n",
            "66\n",
            "67\n",
            "68\n",
            "69\n",
            "70\n",
            "71\n",
            "72\n",
            "73\n",
            "74\n",
            "75\n",
            "76\n",
            "77\n",
            "78\n",
            "79\n",
            "80\n",
            "81\n",
            "82\n",
            "83\n",
            "84\n",
            "85\n",
            "86\n",
            "87\n",
            "88\n",
            "89\n",
            "90\n",
            "91\n",
            "92\n",
            "93\n",
            "94\n",
            "95\n",
            "96\n",
            "97\n",
            "98\n",
            "99\n",
            "100\n",
            "101\n",
            "102\n",
            "103\n",
            "104\n",
            "105\n",
            "106\n",
            "107\n",
            "108\n",
            "109\n",
            "110\n",
            "111\n",
            "112\n",
            "113\n",
            "114\n",
            "115\n",
            "116\n",
            "117\n",
            "118\n",
            "119\n",
            "120\n",
            "121\n",
            "122\n",
            "123\n",
            "124\n",
            "125\n",
            "126\n",
            "127\n",
            "128\n",
            "129\n",
            "130\n",
            "131\n",
            "132\n",
            "133\n",
            "134\n",
            "135\n",
            "136\n",
            "137\n",
            "138\n",
            "139\n",
            "140\n",
            "141\n",
            "142\n",
            "143\n",
            "144\n",
            "145\n",
            "146\n",
            "147\n",
            "148\n",
            "149\n",
            "150\n",
            "151\n",
            "152\n",
            "153\n",
            "154\n",
            "155\n",
            "156\n",
            "157\n",
            "158\n",
            "159\n",
            "160\n",
            "161\n",
            "162\n",
            "163\n",
            "164\n",
            "165\n",
            "166\n",
            "167\n",
            "168\n",
            "169\n",
            "170\n",
            "171\n",
            "172\n",
            "173\n",
            "174\n",
            "175\n",
            "176\n",
            "177\n",
            "178\n",
            "179\n",
            "180\n",
            "181\n",
            "182\n",
            "183\n",
            "184\n",
            "185\n",
            "186\n",
            "187\n",
            "188\n",
            "189\n",
            "190\n",
            "191\n",
            "192\n",
            "193\n",
            "194\n",
            "195\n",
            "196\n",
            "197\n",
            "198\n",
            "199\n",
            "200\n",
            "201\n",
            "202\n",
            "203\n",
            "204\n",
            "205\n",
            "206\n",
            "207\n",
            "208\n",
            "209\n",
            "210\n",
            "211\n",
            "212\n",
            "213\n",
            "214\n",
            "215\n",
            "216\n",
            "217\n",
            "218\n",
            "219\n",
            "220\n",
            "221\n",
            "222\n",
            "223\n",
            "224\n",
            "225\n",
            "226\n",
            "227\n",
            "228\n",
            "229\n",
            "230\n",
            "231\n",
            "232\n",
            "233\n",
            "234\n",
            "235\n",
            "236\n",
            "237\n",
            "238\n",
            "239\n",
            "240\n",
            "241\n",
            "242\n",
            "243\n",
            "244\n",
            "245\n",
            "246\n",
            "247\n",
            "248\n",
            "249\n",
            "250\n",
            "251\n",
            "252\n",
            "253\n",
            "254\n",
            "255\n",
            "256\n",
            "257\n",
            "258\n",
            "259\n",
            "260\n",
            "261\n",
            "262\n",
            "263\n",
            "264\n",
            "265\n",
            "266\n",
            "267\n",
            "268\n",
            "269\n",
            "270\n",
            "271\n",
            "272\n",
            "273\n",
            "274\n",
            "275\n",
            "276\n",
            "277\n",
            "278\n",
            "279\n",
            "280\n",
            "281\n",
            "282\n",
            "283\n",
            "284\n",
            "285\n",
            "286\n",
            "287\n",
            "288\n",
            "289\n",
            "290\n",
            "291\n",
            "292\n",
            "293\n",
            "294\n",
            "295\n",
            "296\n",
            "297\n",
            "298\n",
            "299\n",
            "300\n",
            "301\n",
            "302\n",
            "303\n",
            "304\n",
            "305\n",
            "306\n",
            "307\n",
            "308\n",
            "309\n",
            "310\n",
            "311\n",
            "312\n",
            "313\n",
            "314\n",
            "315\n",
            "316\n",
            "317\n",
            "318\n",
            "319\n",
            "320\n",
            "321\n",
            "322\n",
            "323\n",
            "324\n",
            "325\n",
            "326\n",
            "327\n",
            "328\n",
            "329\n",
            "330\n",
            "331\n",
            "332\n",
            "333\n",
            "334\n",
            "335\n",
            "336\n",
            "337\n",
            "338\n",
            "339\n",
            "340\n",
            "341\n",
            "342\n",
            "343\n",
            "344\n",
            "345\n",
            "346\n",
            "347\n",
            "348\n",
            "349\n",
            "350\n",
            "351\n",
            "352\n",
            "353\n",
            "354\n",
            "355\n",
            "356\n",
            "357\n",
            "358\n",
            "359\n",
            "360\n",
            "361\n",
            "362\n",
            "363\n",
            "364\n",
            "365\n",
            "366\n",
            "367\n",
            "368\n",
            "369\n",
            "370\n",
            "371\n",
            "372\n",
            "373\n",
            "374\n",
            "375\n",
            "376\n",
            "377\n",
            "378\n",
            "379\n",
            "380\n",
            "381\n",
            "382\n",
            "383\n",
            "384\n",
            "385\n",
            "386\n",
            "387\n",
            "388\n",
            "389\n",
            "390\n",
            "391\n",
            "392\n",
            "393\n",
            "394\n",
            "395\n",
            "396\n",
            "397\n",
            "398\n",
            "399\n",
            "400\n",
            "401\n",
            "402\n",
            "403\n",
            "404\n",
            "405\n",
            "406\n",
            "407\n",
            "408\n",
            "409\n",
            "410\n",
            "411\n",
            "412\n",
            "413\n",
            "414\n",
            "415\n",
            "416\n",
            "417\n",
            "418\n",
            "419\n",
            "420\n",
            "421\n",
            "422\n",
            "423\n",
            "424\n",
            "425\n",
            "426\n",
            "427\n",
            "428\n",
            "429\n",
            "430\n",
            "431\n",
            "432\n",
            "433\n",
            "434\n",
            "435\n",
            "436\n",
            "437\n",
            "438\n",
            "439\n",
            "440\n",
            "441\n",
            "442\n",
            "443\n",
            "444\n",
            "445\n",
            "446\n",
            "447\n",
            "448\n",
            "449\n",
            "450\n",
            "451\n",
            "452\n",
            "453\n",
            "454\n",
            "455\n",
            "456\n",
            "457\n",
            "458\n",
            "459\n",
            "460\n",
            "461\n",
            "462\n",
            "463\n",
            "464\n",
            "465\n",
            "466\n",
            "467\n",
            "468\n",
            "469\n",
            "470\n",
            "471\n",
            "472\n",
            "473\n",
            "474\n",
            "475\n",
            "476\n",
            "477\n",
            "478\n",
            "479\n",
            "480\n",
            "481\n",
            "482\n",
            "483\n",
            "484\n",
            "485\n",
            "486\n",
            "487\n",
            "488\n",
            "489\n",
            "490\n",
            "491\n",
            "492\n",
            "493\n",
            "494\n",
            "495\n",
            "496\n",
            "497\n",
            "498\n",
            "499\n",
            "500\n"
          ]
        }
      ]
    },
    {
      "cell_type": "code",
      "source": [
        "# POWER OF RETURN\n",
        "\n",
        "# RETURN IS USED FOR RETURN THE CODE FROM THE RETURN PLACED\n",
        "\n",
        "# EX :1\n",
        "\n",
        "def f():\n",
        "  print(\"hello\")\n",
        "  print(\"world\")\n",
        "  return\n",
        "  print(\"this is not printed\")\n",
        "f()"
      ],
      "metadata": {
        "colab": {
          "base_uri": "https://localhost:8080/"
        },
        "id": "xoL6GWSsaZ8O",
        "outputId": "4e8bf977-a630-4551-dacf-162a5c64746b"
      },
      "execution_count": null,
      "outputs": [
        {
          "output_type": "stream",
          "name": "stdout",
          "text": [
            "hello\n",
            "world\n"
          ]
        }
      ]
    },
    {
      "cell_type": "code",
      "metadata": {
        "colab": {
          "base_uri": "https://localhost:8080/"
        },
        "id": "7a70cb30",
        "outputId": "cdd904f4-ff48-4ac4-bf74-817ee9745bf5"
      },
      "source": [
        "# EX :2\n",
        "\n",
        "def f(v):\n",
        "  if v==6:\n",
        "    return\n",
        "  print(v)\n",
        "  f(v+1)\n",
        "f(1)"
      ],
      "execution_count": null,
      "outputs": [
        {
          "output_type": "stream",
          "name": "stdout",
          "text": [
            "1\n",
            "2\n",
            "3\n",
            "4\n",
            "5\n"
          ]
        }
      ]
    },
    {
      "cell_type": "code",
      "source": [
        "# EX :3\n",
        "\n",
        "def f(v):\n",
        "    if v == 6:\n",
        "        return\n",
        "    f(v + 1)\n",
        "    print(v)\n",
        "\n",
        "f(1)\n"
      ],
      "metadata": {
        "colab": {
          "base_uri": "https://localhost:8080/"
        },
        "id": "qHZ0Y03ggq3v",
        "outputId": "f0249426-952a-42f1-f0c6-7c21fbfe56bc"
      },
      "execution_count": null,
      "outputs": [
        {
          "output_type": "stream",
          "name": "stdout",
          "text": [
            "5\n",
            "4\n",
            "3\n",
            "2\n",
            "1\n"
          ]
        }
      ]
    },
    {
      "cell_type": "code",
      "source": [
        "#SUM OF 5 NUMBERS USING RECURRSION\n",
        "def f(v,sum):\n",
        "  if v==6:\n",
        "    print(sum)\n",
        "    return\n",
        "  sum=sum+v\n",
        "  f(v+1,sum)\n",
        "f(1,0)\n"
      ],
      "metadata": {
        "colab": {
          "base_uri": "https://localhost:8080/"
        },
        "id": "1jEFqZ17lYW3",
        "outputId": "ff6a60fa-c79c-478d-fe17-03b5fb747221"
      },
      "execution_count": null,
      "outputs": [
        {
          "output_type": "stream",
          "name": "stdout",
          "text": [
            "15\n"
          ]
        }
      ]
    },
    {
      "cell_type": "code",
      "source": [
        "#-------------------------------------------------------------# 11/07/2025  #-------------------------------------------------------------#"
      ],
      "metadata": {
        "id": "Uv3YGrLzgVOA"
      },
      "execution_count": null,
      "outputs": []
    },
    {
      "cell_type": "code",
      "source": [
        "#11/7/2025 TEST PROBLEMS\n",
        "\n",
        "# 6\n",
        "# num = int(input(\"Enter a number: \"))\n",
        "# def sumofdigits(n):\n",
        "#     if n == 0:\n",
        "#         return 0\n",
        "#     return n % 10 + sumofdigits(n // 10)\n",
        "# print(sumofdigits(num))\n",
        "\n",
        "#________________________________________________________________________________\n",
        "\n",
        "# 5\n",
        "# n,m=map(int,input().split())\n",
        "# def sumofdigits(n,m):\n",
        "#     return n**m\n",
        "# print(sumofdigits(n,m))\n",
        "\n",
        "#________________________________________________________________________________\n",
        "\n",
        "# 4\n",
        "# n=int(input())\n",
        "# print(str(n)[::-1])\n",
        "\n",
        "#________________________________________________________________________________\n",
        "\n",
        "# 3\n",
        "# n = int(input())\n",
        "# for i in range(1, n + 1):\n",
        "#     print(\" \" * (i - 1), end=\"\")\n",
        "#     for j in range(1, n - i + 2):\n",
        "#         print(j, end=\"\")\n",
        "#     for k in range(n - i, 0, -1):\n",
        "#         print(k, end=\"\")\n",
        "#     print()\n",
        "\n",
        "#________________________________________________________________________________\n",
        "\n",
        "#2\n",
        "#name = input(\"Enter a string: \")\n",
        "# seen = set()\n",
        "\n",
        "# for c in name:\n",
        "#     if c in seen:\n",
        "#         print(c)\n",
        "#         break\n",
        "#     seen.add(c)\n",
        "# else:\n",
        "#     print(\"-1\")\n",
        "\n",
        "#________________________________________________________________________________\n",
        "\n",
        "# 1\n",
        "# m=int(input())\n",
        "# def fibonacci (n):\n",
        "#   a,b=0,1\n",
        "#   for i in range (n):\n",
        "#     print(a,end=' ')\n",
        "#     a, b=b, b+a\n",
        "# fibonacci(m)"
      ],
      "metadata": {
        "id": "Saoez3UFl2ZB"
      },
      "execution_count": null,
      "outputs": []
    },
    {
      "cell_type": "code",
      "metadata": {
        "colab": {
          "base_uri": "https://localhost:8080/"
        },
        "id": "4453e175",
        "outputId": "a693835c-ad1f-4d90-99b8-eb77b1703118"
      },
      "source": [
        "n = int(input(\"Enter the number of rows: \"))\n",
        "\n",
        "for i in range(1, n + 1):\n",
        "    # Print leading spaces\n",
        "    print(\" \" * (i - 1), end=\"\")\n",
        "    # Print increasing sequence\n",
        "    for j in range(1, n - i + 2):\n",
        "        print(j, end=\"\")\n",
        "    # Print decreasing sequence\n",
        "    for k in range(n - i, 0, -1):\n",
        "        print(k, end=\"\")\n",
        "    print()"
      ],
      "execution_count": null,
      "outputs": [
        {
          "output_type": "stream",
          "name": "stdout",
          "text": [
            "Enter the number of rows: 5\n",
            "123454321\n",
            " 1234321\n",
            "  12321\n",
            "   121\n",
            "    1\n"
          ]
        }
      ]
    },
    {
      "cell_type": "markdown",
      "source": [
        "LAMBDA FUNCTION\n"
      ],
      "metadata": {
        "id": "xHFnPn7IiTCn"
      }
    },
    {
      "cell_type": "code",
      "source": [
        "#LAMDA FUNCTION SYNTAX :\n",
        "\n",
        "# FUNCTION NAME = LAMDA PARAMETERS : RETURN EXPRESSIONS/TASKS\n",
        "\n",
        "def add(a,b):\n",
        "  return a+b\n",
        "print(add(1,2))\n",
        "\n",
        "#LAMDA FUNCTION CODE\n",
        "add= lambda a,b:a*b\n",
        "print(add(1,4))"
      ],
      "metadata": {
        "colab": {
          "base_uri": "https://localhost:8080/"
        },
        "id": "OSRmmxsJatc3",
        "outputId": "b1208778-e96b-4a98-d7cd-20c0cef31824"
      },
      "execution_count": null,
      "outputs": [
        {
          "output_type": "stream",
          "name": "stdout",
          "text": [
            "3\n",
            "4\n"
          ]
        }
      ]
    },
    {
      "cell_type": "markdown",
      "source": [
        "SCOPE"
      ],
      "metadata": {
        "id": "XcBD0Kb3jKQv"
      }
    },
    {
      "cell_type": "code",
      "source": [
        "# SCOPE IS AN RANGE\n",
        "\n",
        "#EX :1\n",
        "x=20\n",
        "def samuyel():\n",
        "  x=10\n",
        "  print(x)\n",
        "samuyel()\n",
        "print(x)\n",
        "print()\n",
        "\n",
        "#EX :2\n",
        "x=20\n",
        "def samuyel():\n",
        "  global x\n",
        "  x=10\n",
        "  print(x)\n",
        "samuyel()\n",
        "print(x)\n",
        "print()\n",
        "\n",
        "#EX :2\n",
        "def samuyel():\n",
        "  global x\n",
        "  x=20\n",
        "  print(x)\n",
        "samuyel()\n",
        "print(x)"
      ],
      "metadata": {
        "id": "WFFQimgOjd--",
        "colab": {
          "base_uri": "https://localhost:8080/"
        },
        "outputId": "46c27898-9329-401d-c368-af485a35e1ae"
      },
      "execution_count": 14,
      "outputs": [
        {
          "output_type": "stream",
          "name": "stdout",
          "text": [
            "10\n",
            "20\n",
            "\n",
            "10\n",
            "10\n",
            "\n",
            "20\n",
            "20\n"
          ]
        }
      ]
    }
  ]
}